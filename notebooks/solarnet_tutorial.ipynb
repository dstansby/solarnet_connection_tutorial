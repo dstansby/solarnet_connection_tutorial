{
 "cells": [
  {
   "cell_type": "markdown",
   "metadata": {},
   "source": [
    "# Solar physics with Python\n",
    "\n",
    "Welcome to the solarnet Python tutorial!"
   ]
  },
  {
   "cell_type": "markdown",
   "metadata": {},
   "source": [
    "## Tutorial 0: importing modules\n",
    "\n",
    "If you want to use an external library in Python, you have to explicitly import it. It is generally best practice to import everything at the top of a file, so here we'll import all the libraries that we're going to use in this tutorial. Don't worry about what all of these are at the moment - as you go through the tutorial you'll learn what each one does."
   ]
  },
  {
   "cell_type": "code",
   "execution_count": null,
   "metadata": {},
   "outputs": [],
   "source": [
    "%matplotlib inline\n",
    "\n",
    "import astropy.constants as const\n",
    "import astropy.units as u\n",
    "from astropy.visualization import quantity_support, time_support\n",
    "# These commands allow us to plot astropy Quantities and Times\n",
    "quantity_support()\n",
    "time_support()\n",
    "\n",
    "import matplotlib.pyplot as plt\n",
    "\n",
    "import sunpy.map\n",
    "from sunpy.net import Fido\n",
    "from sunpy.net import attrs as a\n",
    "from sunpy.time import parse_time\n",
    "\n",
    "from heliopy.data import omni"
   ]
  },
  {
   "cell_type": "markdown",
   "metadata": {},
   "source": [
    "## Tutorial 1: Searching and downloading data using sunpy\n",
    "\n",
    "sunpy has a single interface for searching for and downloading data, called \"Fido\". For more in-depth information on searching for and downloading data see https://docs.sunpy.org/en/stable/guide/acquiring_data/index.html\n",
    "\n",
    "Searching for data\n",
    "---\n",
    "Using the above defined search parameters, Fido can be used to search for data. It will automatically search several data sources, including the Virtual Solar Orbservatory (VSO), Joint Stanford Opererations Center (JSOC, for AIA/HMI/MDI data).\n",
    "\n",
    "For more information on searching for and downloading data see https://docs.sunpy.org/en/stable/guide/acquiring_data/index.html\n",
    "\n",
    "### Searching for data\n",
    "In order to search for some data, you have to specify some search terms. In sunpy these are called \"attributes\". We have access to these as they were imported earlier using\n",
    "\n",
    "`from sunpy.net import attrs as a`.\n",
    "\n",
    "Examples of these are:\n",
    "- `a.Time`\n",
    "- `a.Instrument`\n",
    "- `a.Wavelength`\n",
    "\n",
    "For a full list, see https://docs.sunpy.org/en/stable/code_ref/net.html#classes\n",
    "\n",
    "Lets have a go at doing a search:"
   ]
  },
  {
   "cell_type": "code",
   "execution_count": null,
   "metadata": {
    "scrolled": false
   },
   "outputs": [],
   "source": [
    "# Search for all observations within 10 minutes of this time\n",
    "t = parse_time('2015-01-01 00:00:00')\n",
    "dt = 10 * u.minute\n",
    "result = Fido.search(a.Time(t, t + dt),\n",
    "                     a.Instrument('AIA'),\n",
    "                     a.Wavelength(193 * u.Angstrom))\n",
    "result"
   ]
  },
  {
   "cell_type": "markdown",
   "metadata": {},
   "source": [
    "You should see that the above search has returned 50 results. It's possible to download them all, but at ~10MB per image that would be 500MB to download. For now, we just want to download 1 image. To get a single result from here, we can 'slice' the result. This is just like slicing an array, but here:\n",
    "- The first index indexes the provider (we only have one provider, the VSO here).\n",
    "- The second index indexes the result table from that provider.\n",
    "\n",
    "\n",
    "In this example we will get the 2nd result from the 1st provider."
   ]
  },
  {
   "cell_type": "code",
   "execution_count": null,
   "metadata": {},
   "outputs": [],
   "source": [
    "# Remember, python indexes from zero!\n",
    "provider_idx = 0\n",
    "result_idx = 1\n",
    "single_result = result[provider_idx, result_idx]\n",
    "# Or could have just done result[0, 1]\n",
    "single_result"
   ]
  },
  {
   "cell_type": "markdown",
   "metadata": {},
   "source": [
    "### Downloading files\n",
    "\n",
    "Now we have a single result, we can use `Fido` to download it. This is done using `Fido.fetch(result)`, which returns a list of all the files that have been downloaded locally to your computer."
   ]
  },
  {
   "cell_type": "code",
   "execution_count": null,
   "metadata": {
    "scrolled": true
   },
   "outputs": [],
   "source": [
    "downloaded_files = Fido.fetch(single_result)\n",
    "print(downloaded_files)"
   ]
  },
  {
   "cell_type": "markdown",
   "metadata": {},
   "source": [
    "Note that sunpy is clever: if you try to download a file with the same filename twice, it will notice you already have the file, and not try to download the file again."
   ]
  },
  {
   "cell_type": "code",
   "execution_count": null,
   "metadata": {
    "scrolled": true
   },
   "outputs": [],
   "source": [
    "downloaded_files = Fido.fetch(single_result)"
   ]
  },
  {
   "cell_type": "markdown",
   "metadata": {},
   "source": [
    "### Loading and plotting files\n",
    "Now we have downloaded some data, we need to load it and plot it. ``sunpy.map.Map`` can be used to load any ``.fits`` file that contains a 2D map, creating a ``GenericMap`` object. We can then take a quick look at the image stored by calling ``map.peek()``:"
   ]
  },
  {
   "cell_type": "code",
   "execution_count": null,
   "metadata": {
    "scrolled": true
   },
   "outputs": [],
   "source": [
    "aiamap = sunpy.map.Map(downloaded_files[0])\n",
    "aiamap.peek()"
   ]
  },
  {
   "cell_type": "markdown",
   "metadata": {},
   "source": [
    "To get more detailed control of the plotting, we can create a Matplotlib `Figure` object and an `Axes` object that we then plot the map on to."
   ]
  },
  {
   "cell_type": "code",
   "execution_count": null,
   "metadata": {},
   "outputs": [],
   "source": [
    "fig = plt.figure(figsize=(8,6))\n",
    "ax = plt.subplot(projection=aiamap)\n",
    "\n",
    "image = aiamap.plot(ax)\n",
    "aiamap.draw_grid(grid_spacing=20*u.deg)\n",
    "\n",
    "ax.set_xlabel('Solar-X')\n",
    "ax.set_ylabel('Solar-Y')\n",
    "\n",
    "fig.colorbar(image)"
   ]
  },
  {
   "cell_type": "markdown",
   "metadata": {},
   "source": [
    "<div style=\"background-color:#e6ffe6; padding:10px; border-style:\n",
    "solid;; border-color:#00e600; border-width:1px\">\n",
    "\n",
    "Task 1:\n",
    "    \n",
    "By copying and changing code from above:\n",
    "- Download and plot an AIA 193 image taken on your birthday in 2020\n",
    "- Download and plot an AIA image in another wavelength (see the images on https://sdo.gsfc.nasa.gov for the other wavelengths available)"
   ]
  },
  {
   "cell_type": "code",
   "execution_count": null,
   "metadata": {},
   "outputs": [],
   "source": []
  },
  {
   "cell_type": "markdown",
   "metadata": {},
   "source": [
    "## Tutorial 3: Maps\n",
    "\n",
    "In the previous section we had a quick look at how to download and plot maps. In this section, we'll have a quick look on how to access various bits of information about a Map.\n",
    "\n",
    "A Map has two parts: the raw data array (`aiamap.data`), and metadata that allows you to interpret the raw data (`aiamap.meta`)."
   ]
  },
  {
   "cell_type": "code",
   "execution_count": null,
   "metadata": {},
   "outputs": [],
   "source": [
    "aiamap.meta"
   ]
  },
  {
   "cell_type": "markdown",
   "metadata": {},
   "source": [
    "This is a bit hard for a human to read! Luckily sunpy has a lot of helpful attributes that allow you to access the metadata. Lets have a quick look an example:"
   ]
  },
  {
   "cell_type": "code",
   "execution_count": null,
   "metadata": {},
   "outputs": [],
   "source": [
    "# Print the shape of the map\n",
    "aiamap.dimensions"
   ]
  },
  {
   "cell_type": "markdown",
   "metadata": {},
   "source": [
    "<div style=\"background-color:#e6ffe6; padding:10px; border-style:\n",
    "solid;; border-color:#00e600; border-width:1px\">\n",
    "\n",
    "Task 2:\n",
    "    \n",
    "Go to https://docs.sunpy.org/en/stable/api/sunpy.map.GenericMap.html, and scroll down to \"Attributes\". Find the right attributes to answer these questions:\n",
    "- What is the resolution of the map (this is sometimes called the pixel scale)?\n",
    "- How long was the exposure time?\n",
    "- What was the Carrington latitude of the observer?"
   ]
  },
  {
   "cell_type": "code",
   "execution_count": null,
   "metadata": {},
   "outputs": [],
   "source": []
  },
  {
   "cell_type": "markdown",
   "metadata": {},
   "source": [
    "## Tutorial 4: Downloading in-situ data\n",
    "We've had a good look at using sunpy to load and view remote sensing data. For in-situ data, the heliopy package (https://docs.heliopy.org/en/stable/) can be used to do similar things.\n",
    "\n",
    "In particular, the ``heliopy.data`` module can be used to download and import a wide range of in situ datasets from various heliospheric missions, including (but not limited to!) Solar Orbiter, Parker Solar Probe, WIND, and ACE.\n",
    "\n",
    "In this example we'll use data from the OMNI dataset. This is a combination of data from several spacecraft, and provides near continuous measurements of the solar wind at the orbit of the Earth for the last ~40 years.\n",
    "\n",
    "We'll start by looking at solar wind that was around the same time as the aiamap we downloaded above:"
   ]
  },
  {
   "cell_type": "code",
   "execution_count": null,
   "metadata": {
    "scrolled": true
   },
   "outputs": [],
   "source": [
    "starttime = aiamap.date\n",
    "endtime = aiamap.date + (25 * u.day)\n",
    "omni_data = omni.h0_mrg1hr(starttime.datetime, endtime.datetime)\n",
    "# Remove any gaps in the velocity data - this is important for later steps\n",
    "omni_data._data = omni_data.to_dataframe().dropna(subset=['V'])"
   ]
  },
  {
   "cell_type": "markdown",
   "metadata": {},
   "source": [
    "heliopy returns in-situ datasets as sunpy `TimeSeries` objects. These contain a time index (`data.index`), and a series of 1D data columns that can be accessed using `data.quantity(variable_name)`. Lets take a look at the columns:"
   ]
  },
  {
   "cell_type": "code",
   "execution_count": null,
   "metadata": {
    "scrolled": true
   },
   "outputs": [],
   "source": [
    "omni_data.columns"
   ]
  },
  {
   "cell_type": "markdown",
   "metadata": {},
   "source": [
    "Whew, that's a lot of columns! Each one is documented at https://cdaweb.gsfc.nasa.gov/misc/NotesO.html#OMNI2_H0_MRG1HR in this case, but for now we're just interested in the N, V, T columns, which are the solar wind proton number density, speed, and temperature."
   ]
  },
  {
   "cell_type": "markdown",
   "metadata": {},
   "source": [
    "### Plotting in-situ data\n",
    "Matplotlib can be used to plot the downloaded data. In this example we'll plot the solar wind speed, magnetic field mangitude, and number density."
   ]
  },
  {
   "cell_type": "code",
   "execution_count": null,
   "metadata": {
    "scrolled": false
   },
   "outputs": [],
   "source": [
    "fig, axs = plt.subplots(figsize=(9, 6), nrows=3, sharex=True)\n",
    "\n",
    "ax = axs[0]\n",
    "ax.plot(omni_data.index, omni_data.quantity('V'), label='$v_{sw}$')\n",
    "ax.set_title('Solar wind speed')\n",
    "\n",
    "ax = axs[1]\n",
    "ax.plot(omni_data.index, omni_data.quantity('ABS_B'), label='$|B|$')\n",
    "ax.set_title('Magnetic field magnitude')\n",
    "\n",
    "ax = axs[2]\n",
    "ax.plot(omni_data.index, omni_data.quantity('N'), label='$n_{p}$')\n",
    "ax.set_title('Proton number density')"
   ]
  },
  {
   "cell_type": "markdown",
   "metadata": {},
   "source": [
    "## Tutorial 5: backmapping in-situ data\n",
    "\n",
    "Now we have our solar wind data, measured at the Earth. We want to know what time it left the Sun, so we can line up features in the solar wind with features on the Sun. In general, the travel time is given by:\n",
    "\n",
    "$$\n",
    "t_{Sun} = t_{Earth} -  \\int_{r_{Sun}}^{r_{Earth}} \\frac{dr}{v_{sw} (r)} dr\n",
    "$$\n",
    "\n",
    "so we need to know what the solar wind speed was on the full trajectory from the Sun to the Earth. For now, lets just assume that the speed is constant, which gives us\n",
    "\n",
    "$$\n",
    "t_{Sun} =t_{Earth} - \\frac{r_{Earth} - r_{Sun}}{v_{sw}}\n",
    "$$"
   ]
  },
  {
   "cell_type": "code",
   "execution_count": null,
   "metadata": {},
   "outputs": [],
   "source": [
    "def backmapped_time(t_earth, v_sw):\n",
    "    t_earth = parse_time(t_earth)\n",
    "    r_earth = 1 * const.au\n",
    "    r_sun = const.R_sun\n",
    "    return t_earth - (r_earth - r_sun) / vsw\n",
    "\n",
    "t_sun = backmapped_time(omni_data.index, omni_data.quantity('V'))\n",
    "# Calculate transit time\n",
    "dt = (t_earth - t_sun).to(u.day)\n",
    "dt"
   ]
  },
  {
   "cell_type": "code",
   "execution_count": null,
   "metadata": {},
   "outputs": [],
   "source": [
    "# Plot the results\n",
    "fig, axs = plt.subplots(nrows=2, sharex=True, figsize=(9, 6), tight_layout=True)\n",
    "ax = axs[0]\n",
    "ax.plot(t_earth.datetime, vsw)\n",
    "ax.set_title('Solar wind speed')\n",
    "ax.grid()\n",
    "\n",
    "ax = axs[1]\n",
    "ax.plot(t_sun.datetime, vsw)\n",
    "ax.set_title('Solar wind speed')\n",
    "ax.set_xlabel('Time (at the Sun)')\n",
    "ax.grid()\n",
    "ax.set_title('Backmapped solar wind speed')\n",
    "\n",
    "ax.axvline(aiamap.date.datetime)\n",
    "ax.text(aiamap.date.datetime, 550, ' AIA observation time')\n",
    "ax.axvspan((aiamap.date - 1 * u.day).datetime,\n",
    "           (aiamap.date + 1 * u.day).datetime,\n",
    "           alpha=0.1)\n",
    "\n",
    "fig.align_ylabels()\n",
    "fig.autofmt_xdate()"
   ]
  }
 ],
 "metadata": {
  "kernelspec": {
   "display_name": "Python 3",
   "language": "python",
   "name": "python3"
  },
  "language_info": {
   "codemirror_mode": {
    "name": "ipython",
    "version": 3
   },
   "file_extension": ".py",
   "mimetype": "text/x-python",
   "name": "python",
   "nbconvert_exporter": "python",
   "pygments_lexer": "ipython3",
   "version": "3.8.6"
  }
 },
 "nbformat": 4,
 "nbformat_minor": 2
}
