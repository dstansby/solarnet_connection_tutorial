{
 "cells": [
  {
   "cell_type": "markdown",
   "metadata": {},
   "source": [
    "Test jupyter notebook\n",
    "====\n",
    "\n",
    "This is a small notebook to check that you have working installation of jupyter with the required packages. Please run each cell in the notebook one by one **from top to bottom**.\n",
    "\n",
    "You can do this by clicking the **Run** button above. Pressing it once will run the selected cell, and automatically select the next cell so that it is ready to be run next.\n",
    "\n",
    "Any issues?\n",
    "----\n",
    "If you get any errors, or something doesn't work as you expected it to, please email d.stansby@ucl.ac.uk and hopefully I can help!"
   ]
  },
  {
   "cell_type": "code",
   "execution_count": null,
   "metadata": {},
   "outputs": [],
   "source": [
    "from sunpy.net import Fido, attrs as a\n",
    "from sunpy.time import parse_time\n",
    "import astropy.units as u"
   ]
  },
  {
   "cell_type": "markdown",
   "metadata": {},
   "source": [
    "The next cell should output a table, that says \"Results from 1 Provider\" and \"300 Results from the VSOClient:\" at the top."
   ]
  },
  {
   "cell_type": "code",
   "execution_count": null,
   "metadata": {},
   "outputs": [],
   "source": [
    "t = parse_time('2015-01-01')\n",
    "result = Fido.search(a.Time(t, t + u.hr * 1),\n",
    "                     a.Instrument('AIA'),\n",
    "                     a.Wavelength(19.3 * u.nm))\n",
    "result"
   ]
  },
  {
   "cell_type": "code",
   "execution_count": null,
   "metadata": {},
   "outputs": [],
   "source": [
    "from heliopy.data import omni"
   ]
  },
  {
   "cell_type": "markdown",
   "metadata": {},
   "source": [
    "The next cell should print a table with several columns and rows."
   ]
  },
  {
   "cell_type": "code",
   "execution_count": null,
   "metadata": {},
   "outputs": [],
   "source": [
    "starttime = t - (1*u.year / 12)\n",
    "endtime = t + (1*u.year / 12)\n",
    "omni_data = omni.h0_mrg1hr(starttime.datetime, endtime.datetime)\n",
    "omni_data.to_dataframe().head()"
   ]
  }
 ],
 "metadata": {
  "kernelspec": {
   "display_name": "Python 3",
   "language": "python",
   "name": "python3"
  },
  "language_info": {
   "codemirror_mode": {
    "name": "ipython",
    "version": 3
   },
   "file_extension": ".py",
   "mimetype": "text/x-python",
   "name": "python",
   "nbconvert_exporter": "python",
   "pygments_lexer": "ipython3",
   "version": "3.8.5"
  }
 },
 "nbformat": 4,
 "nbformat_minor": 4
}
